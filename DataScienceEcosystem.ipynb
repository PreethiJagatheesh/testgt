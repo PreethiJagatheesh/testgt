{
 "cells": [
  {
   "cell_type": "markdown",
   "id": "854260a5-189d-47d1-8cfb-65f7f97ee723",
   "metadata": {},
   "source": [
    "Exercise 1: Create a Juypter Notebook"
   ]
  },
  {
   "cell_type": "markdown",
   "id": "f3a06991-ba5e-48e0-99cf-fce4b6dafbe9",
   "metadata": {},
   "source": [
    "Exercise 2: Create a markdown cell with title of the notebook."
   ]
  },
  {
   "cell_type": "markdown",
   "id": "1b6a665c-fe94-4be6-8844-4a13f6011faa",
   "metadata": {},
   "source": [
    "# Data Science Tools and Ecosystem"
   ]
  },
  {
   "cell_type": "markdown",
   "id": "3d82bbeb-e585-42c2-b753-fce5e1cbdf97",
   "metadata": {},
   "source": [
    "Exercise 3: Create a markdown cell for an introduction."
   ]
  },
  {
   "cell_type": "markdown",
   "id": "ad4bae6c-86a5-4b6b-a3ab-7c1ed5ae4502",
   "metadata": {},
   "source": [
    "In this notebook, Data Science Tools and Ecosystem are summarized."
   ]
  },
  {
   "cell_type": "markdown",
   "id": "70b9f9ba-9489-4d1a-850c-21fb32b067e1",
   "metadata": {},
   "source": [
    "**Objectives:**"
   ]
  },
  {
   "cell_type": "markdown",
   "id": "f6a1892c-baf5-4ef9-8d0b-b2dbb7a77821",
   "metadata": {},
   "source": [
    "- Comment on Data Science tools.\n",
    "- List popular languages for Data Science.\n",
    "- List commonly used libraries for Data Science.\n",
    "- Introducing arithmetic expressions.\n",
    "- To converts minutes to hours.                             "
   ]
  },
  {
   "cell_type": "markdown",
   "id": "4bf442c2-5350-4d1f-8703-32a4e66a4b49",
   "metadata": {},
   "source": [
    "Exercise 4: Create a markdown cell to list data science languages."
   ]
  },
  {
   "cell_type": "markdown",
   "id": "41bb5e12-9765-49e0-ba20-69d96cece5ae",
   "metadata": {},
   "source": [
    "Some of the popular languages that Data Scientists use are:"
   ]
  },
  {
   "cell_type": "markdown",
   "id": "7a9c0a90-28ba-45da-ba67-0d2f9401f403",
   "metadata": {},
   "source": [
    "1. Python\n",
    "2. R\n",
    "3. MATLAB\n",
    "4. Scala\n",
    "5. SQL\n",
    "6. Java\n",
    "7. Julia"
   ]
  },
  {
   "cell_type": "markdown",
   "id": "279baf61-16a6-4cc1-a8f7-bbd227cfc7db",
   "metadata": {},
   "source": [
    "Exercise 5: Create a markdown cell to list data science libraries."
   ]
  },
  {
   "cell_type": "markdown",
   "id": "ca811d44-523a-4e7e-b0f5-b2a3a6b4a024",
   "metadata": {},
   "source": [
    "Some of the commonly used libraries used by Data Scientists  include: "
   ]
  },
  {
   "cell_type": "markdown",
   "id": "f1ce3a0c-0ebb-42de-aa71-007a410926ba",
   "metadata": {},
   "source": [
    "1. Pandas\n",
    "2. TensorFlow\n",
    "3. NumPy\n",
    "4. Matplotlib\n",
    "5. PyTorch\n",
    "6. Scikit-learn\n",
    "7. keras"
   ]
  },
  {
   "cell_type": "markdown",
   "id": "e633a648-ca3d-49a4-9dd0-7404e84646d3",
   "metadata": {},
   "source": [
    "Exercise 6: Create a markdown cell with a table of Data Science tools."
   ]
  },
  {
   "cell_type": "markdown",
   "id": "563f239d-a619-4ad4-b620-989a4b2e85e8",
   "metadata": {},
   "source": [
    "Data Science Tools:"
   ]
  },
  {
   "cell_type": "markdown",
   "id": "bfbf8c01-ca48-42e5-9fa9-4f37d9431210",
   "metadata": {},
   "source": [
    "       Data Science Tools\n",
    "SAS \n",
    "\n",
    "Apache Spark\n",
    "\n",
    "BigML"
   ]
  },
  {
   "cell_type": "markdown",
   "id": "12d5017c-dfac-4311-88c0-ebbc827f7781",
   "metadata": {},
   "source": [
    "Exercise 7: Create a markdown cell introducing arithmetic expression examples."
   ]
  },
  {
   "cell_type": "markdown",
   "id": "c039a2fd-ccbc-4c35-ab9c-0d1d353f7b27",
   "metadata": {},
   "source": [
    "### Below are a few examples of evaluating arithmetic examples in Python"
   ]
  },
  {
   "cell_type": "markdown",
   "id": "bd333910-8238-410e-9a30-7e744a56b697",
   "metadata": {},
   "source": [
    "Exercise 8: Create a code cell to multiply and add numbers."
   ]
  },
  {
   "cell_type": "markdown",
   "id": "65113979-6bdf-4f11-a9e5-78038092620a",
   "metadata": {},
   "source": [
    "This is a simple arithmetic to multiply and add then integer."
   ]
  },
  {
   "cell_type": "code",
   "execution_count": 10,
   "id": "ab5bc5f2-5d63-49ba-a23d-c0b5b552292a",
   "metadata": {},
   "outputs": [
    {
     "data": {
      "text/plain": [
       "17"
      ]
     },
     "execution_count": 10,
     "metadata": {},
     "output_type": "execute_result"
    }
   ],
   "source": [
    "3*4+5\n",
    "# Results: 17"
   ]
  },
  {
   "cell_type": "markdown",
   "id": "867393f5-f792-4142-b051-7b54302391d7",
   "metadata": {},
   "source": [
    "Exercise 9: Create a code cell to convert to hours."
   ]
  },
  {
   "cell_type": "markdown",
   "id": "1df2a99b-7fa3-4b07-950c-2294c2e63c59",
   "metadata": {},
   "source": [
    "This will convert 200 minutes to hours by dividing by 60"
   ]
  },
  {
   "cell_type": "code",
   "execution_count": 11,
   "id": "1fb410a4-b29e-4fa0-a5d2-84eb0acf5553",
   "metadata": {},
   "outputs": [
    {
     "data": {
      "text/plain": [
       "3.3333333333333335"
      ]
     },
     "execution_count": 11,
     "metadata": {},
     "output_type": "execute_result"
    }
   ],
   "source": [
    "minutes = 200\n",
    "hours = 60\n",
    "minutes/hours"
   ]
  },
  {
   "cell_type": "markdown",
   "id": "6d5e161e-793f-42eb-8120-789dfcb907e0",
   "metadata": {},
   "source": [
    "Exercise 10: Insert a markdown cell to list Objectives."
   ]
  },
  {
   "cell_type": "markdown",
   "id": "6744ab83-1406-48da-a964-5207f71ea057",
   "metadata": {},
   "source": [
    "Below the introduction cell created in Exercise 3, insert a new markdown cell to list the objectives that this notebook covered (i.e. some of the key takeaways from the course). In this new cell start with an introductory line titled: Objectives: in bold font. Then using an unordered list (bullets) indicate 3 to 5 items covered in this notebook, such as List popular languages for Data Science."
   ]
  },
  {
   "cell_type": "markdown",
   "id": "001b9127-fd70-4190-88fe-632c8fdf368d",
   "metadata": {},
   "source": [
    "Exercise 11: Create a markdown cell to indicate the Author's name."
   ]
  },
  {
   "cell_type": "markdown",
   "id": "1bd7c426-2632-429a-acbc-ebe5d40d5765",
   "metadata": {},
   "source": [
    "## Author:"
   ]
  },
  {
   "cell_type": "markdown",
   "id": "d48c1eee-f403-4e33-8855-26427c40b28d",
   "metadata": {},
   "source": [
    "Preethi"
   ]
  },
  {
   "cell_type": "code",
   "execution_count": null,
   "id": "9d1f4122-afa4-4690-9b7a-7cf9862396ab",
   "metadata": {},
   "outputs": [],
   "source": []
  }
 ],
 "metadata": {
  "kernelspec": {
   "display_name": "Python 3 (ipykernel)",
   "language": "python",
   "name": "python3"
  },
  "language_info": {
   "codemirror_mode": {
    "name": "ipython",
    "version": 3
   },
   "file_extension": ".py",
   "mimetype": "text/x-python",
   "name": "python",
   "nbconvert_exporter": "python",
   "pygments_lexer": "ipython3",
   "version": "3.11.9"
  }
 },
 "nbformat": 4,
 "nbformat_minor": 5
}
